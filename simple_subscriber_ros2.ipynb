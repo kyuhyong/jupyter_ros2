{
 "cells": [
  {
   "cell_type": "code",
   "execution_count": 1,
   "id": "42686f4d",
   "metadata": {},
   "outputs": [],
   "source": [
    "import sys\n",
    "import rclpy\n",
    "from rclpy.node import Node\n",
    "from std_msgs.msg import String"
   ]
  },
  {
   "cell_type": "code",
   "execution_count": 2,
   "id": "da6d98a1",
   "metadata": {},
   "outputs": [],
   "source": [
    "def callback(msg):\n",
    "    node.get_logger().info('I heard:{0}'.format(msg.data))"
   ]
  },
  {
   "cell_type": "code",
   "execution_count": 3,
   "id": "0a2f2f18",
   "metadata": {},
   "outputs": [],
   "source": [
    "rclpy.init(args=sys.argv)"
   ]
  },
  {
   "cell_type": "code",
   "execution_count": 4,
   "id": "062046a4",
   "metadata": {},
   "outputs": [],
   "source": [
    "node = rclpy.create_node('listener')"
   ]
  },
  {
   "cell_type": "code",
   "execution_count": 5,
   "id": "7903c0e6",
   "metadata": {},
   "outputs": [],
   "source": [
    "sub = node.create_subscription(String,'chatter',callback, 10)"
   ]
  },
  {
   "cell_type": "code",
   "execution_count": null,
   "id": "b62cf9e9",
   "metadata": {},
   "outputs": [
    {
     "name": "stderr",
     "output_type": "stream",
     "text": [
      "[INFO] [1660829544.668817836] [listener]: I heard:Hello listener!\n",
      "[INFO] [1660829566.610274564] [listener]: I heard:Noce to meet you\n",
      "[INFO] [1660829570.963956360] [listener]: I heard:Nice to meet you\n",
      "[INFO] [1660829897.227153192] [listener]: I heard:Hello World!\n",
      "[INFO] [1660829897.724023180] [listener]: I heard:Hello World!\n",
      "[INFO] [1660829898.225711687] [listener]: I heard:Hello World!\n",
      "[INFO] [1660829898.724413333] [listener]: I heard:Hello World!\n",
      "[INFO] [1660829899.227202555] [listener]: I heard:Hello World!\n",
      "[INFO] [1660829899.726854709] [listener]: I heard:Hello World!\n",
      "[INFO] [1660829900.224001555] [listener]: I heard:Hello World!\n",
      "[INFO] [1660829900.725712806] [listener]: I heard:Hello World!\n",
      "[INFO] [1660829901.226919349] [listener]: I heard:Hello World!\n",
      "[INFO] [1660829901.725244701] [listener]: I heard:Hello World!\n",
      "[INFO] [1660829902.224617213] [listener]: I heard:Hello World!\n",
      "[INFO] [1660829902.726082830] [listener]: I heard:Hello World!\n",
      "[INFO] [1660830216.267027069] [listener]: I heard:Hello World!\n",
      "[INFO] [1660830332.339458036] [listener]: I heard:Hello World!\n",
      "[INFO] [1660830406.397661740] [listener]: I heard:Hello World!\n",
      "[INFO] [1660830406.825140014] [listener]: I heard:Hello World!\n",
      "[INFO] [1660830407.325558877] [listener]: I heard:Hello World!\n",
      "[INFO] [1660830407.824579094] [listener]: I heard:Hello World!\n",
      "[INFO] [1660830408.325887716] [listener]: I heard:Hello World!\n",
      "[INFO] [1660830408.824020419] [listener]: I heard:Hello World!\n",
      "[INFO] [1660830409.324265840] [listener]: I heard:Hello World!\n",
      "[INFO] [1660830409.824831262] [listener]: I heard:Hello World!\n",
      "[INFO] [1660830410.325645951] [listener]: I heard:Hello World!\n",
      "[INFO] [1660830410.824165873] [listener]: I heard:Hello World!\n",
      "[INFO] [1660830411.325304553] [listener]: I heard:Hello World!\n",
      "[INFO] [1660830411.824083230] [listener]: I heard:Hello World!\n",
      "[INFO] [1660830412.324164585] [listener]: I heard:Hello World!\n",
      "[INFO] [1660830412.828313034] [listener]: I heard:Hello World!\n",
      "[INFO] [1660830413.324440732] [listener]: I heard:Hello World!\n",
      "[INFO] [1660830413.825004758] [listener]: I heard:Hello World!\n",
      "[INFO] [1660830497.361328680] [listener]: I heard:Hello World!\n",
      "[INFO] [1660830497.365620524] [listener]: I heard:Hello World: 18\n",
      "[INFO] [1660830497.785307916] [listener]: I heard:Hello World: 19\n",
      "[INFO] [1660830497.825626019] [listener]: I heard:Hello World!\n",
      "[INFO] [1660830498.286019513] [listener]: I heard:Hello World: 21\n",
      "[INFO] [1660830498.328128483] [listener]: I heard:Hello World!\n",
      "[INFO] [1660830498.786028605] [listener]: I heard:Hello World: 23\n",
      "[INFO] [1660830498.824670987] [listener]: I heard:Hello World!\n",
      "[INFO] [1660830499.285454462] [listener]: I heard:Hello World: 25\n",
      "[INFO] [1660830499.326732533] [listener]: I heard:Hello World!\n",
      "[INFO] [1660830499.786684925] [listener]: I heard:Hello World: 27\n",
      "[INFO] [1660830499.825408909] [listener]: I heard:Hello World!\n",
      "[INFO] [1660830500.284701025] [listener]: I heard:Hello World: 29\n",
      "[INFO] [1660830500.324387261] [listener]: I heard:Hello World!\n",
      "[INFO] [1660830500.784337916] [listener]: I heard:Hello World: 31\n",
      "[INFO] [1660830500.824172932] [listener]: I heard:Hello World!\n",
      "[INFO] [1660830501.284001970] [listener]: I heard:Hello World: 33\n",
      "[INFO] [1660830501.324412716] [listener]: I heard:Hello World!\n",
      "[INFO] [1660830501.787110100] [listener]: I heard:Hello World: 35\n",
      "[INFO] [1660830501.825569537] [listener]: I heard:Hello World!\n",
      "[INFO] [1660830502.287110087] [listener]: I heard:Hello World: 37\n",
      "[INFO] [1660830502.326020926] [listener]: I heard:Hello World!\n",
      "[INFO] [1660830502.784191113] [listener]: I heard:Hello World: 39\n",
      "[INFO] [1660830502.824825569] [listener]: I heard:Hello World!\n",
      "[INFO] [1660830503.283844172] [listener]: I heard:Hello World: 41\n",
      "[INFO] [1660830503.324996169] [listener]: I heard:Hello World!\n",
      "[INFO] [1660830503.788431995] [listener]: I heard:Hello World: 43\n",
      "[INFO] [1660830503.824960628] [listener]: I heard:Hello World!\n",
      "[INFO] [1660830504.283616116] [listener]: I heard:Hello World: 45\n",
      "[INFO] [1660830504.324068433] [listener]: I heard:Hello World!\n",
      "[INFO] [1660830504.786316974] [listener]: I heard:Hello World: 47\n",
      "[INFO] [1660830504.824370407] [listener]: I heard:Hello World!\n",
      "[INFO] [1660830505.286601462] [listener]: I heard:Hello World: 49\n",
      "[INFO] [1660830505.325414680] [listener]: I heard:Hello World!\n",
      "[INFO] [1660830505.784177953] [listener]: I heard:Hello World: 51\n",
      "[INFO] [1660830505.824474869] [listener]: I heard:Hello World!\n",
      "[INFO] [1660830506.284181363] [listener]: I heard:Hello World: 53\n",
      "[INFO] [1660830506.324571259] [listener]: I heard:Hello World!\n",
      "[INFO] [1660830506.783739393] [listener]: I heard:Hello World: 55\n",
      "[INFO] [1660830506.823862668] [listener]: I heard:Hello World!\n",
      "[INFO] [1660830507.285031200] [listener]: I heard:Hello World: 57\n",
      "[INFO] [1660830507.325566056] [listener]: I heard:Hello World!\n",
      "[INFO] [1660830507.784197192] [listener]: I heard:Hello World: 59\n",
      "[INFO] [1660830507.823852292] [listener]: I heard:Hello World!\n",
      "[INFO] [1660830508.285793404] [listener]: I heard:Hello World: 61\n",
      "[INFO] [1660830508.324594207] [listener]: I heard:Hello World!\n",
      "[INFO] [1660830508.783306965] [listener]: I heard:Hello World: 63\n",
      "[INFO] [1660830508.824133913] [listener]: I heard:Hello World!\n",
      "[INFO] [1660830509.285125078] [listener]: I heard:Hello World: 65\n",
      "[INFO] [1660830509.324006653] [listener]: I heard:Hello World!\n",
      "[INFO] [1660830514.991859185] [listener]: I heard:Hello World: 1\n",
      "[INFO] [1660830515.492620448] [listener]: I heard:Hello World: 2\n",
      "[INFO] [1660830515.990627526] [listener]: I heard:Hello World: 3\n",
      "[INFO] [1660830516.492919487] [listener]: I heard:Hello World: 4\n",
      "[INFO] [1660830516.991384637] [listener]: I heard:Hello World: 5\n",
      "[INFO] [1660830517.491454992] [listener]: I heard:Hello World: 6\n",
      "[INFO] [1660830517.991699400] [listener]: I heard:Hello World: 7\n",
      "[INFO] [1660830518.492666949] [listener]: I heard:Hello World: 8\n",
      "[INFO] [1660830518.991534738] [listener]: I heard:Hello World: 9\n",
      "[INFO] [1660830519.493921655] [listener]: I heard:Hello World: 10\n",
      "[INFO] [1660830519.993158044] [listener]: I heard:Hello World: 11\n",
      "[INFO] [1660830520.493948099] [listener]: I heard:Hello World: 12\n",
      "[INFO] [1660830520.993182574] [listener]: I heard:Hello World: 13\n",
      "[INFO] [1660830521.493198807] [listener]: I heard:Hello World: 14\n",
      "[INFO] [1660830521.991457473] [listener]: I heard:Hello World: 15\n",
      "[INFO] [1660830522.491822020] [listener]: I heard:Hello World: 16\n",
      "[INFO] [1660830522.993291904] [listener]: I heard:Hello World: 17\n",
      "[INFO] [1660830523.493611697] [listener]: I heard:Hello World: 18\n",
      "[INFO] [1660830523.995594073] [listener]: I heard:Hello World: 19\n",
      "[INFO] [1660830524.492910128] [listener]: I heard:Hello World: 20\n",
      "[INFO] [1660830524.993227360] [listener]: I heard:Hello World: 21\n",
      "[INFO] [1660830525.490737158] [listener]: I heard:Hello World: 22\n",
      "[INFO] [1660830525.992931043] [listener]: I heard:Hello World: 23\n",
      "[INFO] [1660830526.492927942] [listener]: I heard:Hello World: 24\n",
      "[INFO] [1660830526.991511034] [listener]: I heard:Hello World: 25\n",
      "[INFO] [1660830527.491356080] [listener]: I heard:Hello World: 26\n"
     ]
    }
   ],
   "source": [
    "rclpy.spin(node)"
   ]
  },
  {
   "cell_type": "code",
   "execution_count": null,
   "id": "1775f282",
   "metadata": {},
   "outputs": [],
   "source": [
    "rclpy.shutdown()"
   ]
  },
  {
   "cell_type": "code",
   "execution_count": null,
   "id": "d9ad0479",
   "metadata": {},
   "outputs": [],
   "source": []
  }
 ],
 "metadata": {
  "kernelspec": {
   "display_name": "Python 3 (ipykernel)",
   "language": "python",
   "name": "python3"
  },
  "language_info": {
   "codemirror_mode": {
    "name": "ipython",
    "version": 3
   },
   "file_extension": ".py",
   "mimetype": "text/x-python",
   "name": "python",
   "nbconvert_exporter": "python",
   "pygments_lexer": "ipython3",
   "version": "3.8.10"
  }
 },
 "nbformat": 4,
 "nbformat_minor": 5
}
