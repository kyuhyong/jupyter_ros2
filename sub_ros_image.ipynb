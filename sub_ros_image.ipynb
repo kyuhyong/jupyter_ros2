{
 "cells": [
  {
   "cell_type": "code",
   "execution_count": null,
   "id": "6f70121d-45bb-43d1-aa42-a70751197672",
   "metadata": {},
   "outputs": [],
   "source": [
    "import rclpy\n",
    "import sys\n",
    "from rclpy.node import Node\n",
    "from sensor_msgs.msg import Image\n",
    "import numpy as np\n",
    "import cv2\n",
    "from cv_bridge import CvBridge"
   ]
  },
  {
   "cell_type": "code",
   "execution_count": null,
   "id": "50594edc-43e7-4f91-ad31-60ca3cdd2f98",
   "metadata": {},
   "outputs": [],
   "source": [
    "bridge = CvBridge() "
   ]
  },
  {
   "cell_type": "code",
   "execution_count": null,
   "id": "d36e8d8f-e505-43e5-8189-0cf2a1f50722",
   "metadata": {},
   "outputs": [],
   "source": [
    "def callback_image(topic):\n",
    "    image = bridge.imgmsg_to_cv2(topic, 'bgr8')\n",
    "    cv2.imshow('img', image)"
   ]
  },
  {
   "cell_type": "code",
   "execution_count": null,
   "id": "2826f7f8-10b2-408b-a820-17dab40f11d6",
   "metadata": {},
   "outputs": [],
   "source": [
    "rclpy.init(args=sys.argv)\n",
    "node = rclpy.create_node('sub_image')"
   ]
  },
  {
   "cell_type": "code",
   "execution_count": null,
   "id": "24a9b8a7-4bdc-400e-bd47-dd95044101b0",
   "metadata": {},
   "outputs": [],
   "source": [
    "cv2.startWindowThread()\n",
    "cv2.namedWindow(\"img\")\n",
    "sub = node.create_subscription(Image, '/image_raw', callback_image, 10)"
   ]
  },
  {
   "cell_type": "code",
   "execution_count": null,
   "id": "818f01fe-295b-46b3-93b1-f58f312fdff3",
   "metadata": {},
   "outputs": [],
   "source": [
    "rclpy.spin(node)"
   ]
  }
 ],
 "metadata": {
  "kernelspec": {
   "display_name": "Python 3 (ipykernel)",
   "language": "python",
   "name": "python3"
  },
  "language_info": {
   "codemirror_mode": {
    "name": "ipython",
    "version": 3
   },
   "file_extension": ".py",
   "mimetype": "text/x-python",
   "name": "python",
   "nbconvert_exporter": "python",
   "pygments_lexer": "ipython3",
   "version": "3.8.10"
  }
 },
 "nbformat": 4,
 "nbformat_minor": 5
}
